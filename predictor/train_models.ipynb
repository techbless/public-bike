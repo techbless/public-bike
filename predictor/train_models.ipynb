{
 "cells": [
  {
   "cell_type": "code",
   "execution_count": 1,
   "metadata": {
    "scrolled": true
   },
   "outputs": [
    {
     "name": "stdout",
     "output_type": "stream",
     "text": [
      "Requirement already up-to-date: pip in /opt/conda/lib/python3.6/site-packages (20.1.1)\n",
      "Requirement already up-to-date: python-dotenv in /opt/conda/lib/python3.6/site-packages (0.14.0)\n",
      "Requirement already satisfied: PyMySQL in /opt/conda/lib/python3.6/site-packages (0.10.0)\n"
     ]
    }
   ],
   "source": [
    "!pip install --upgrade pip\n",
    "!pip install -U python-dotenv\n",
    "!pip install PyMySQL"
   ]
  },
  {
   "cell_type": "code",
   "execution_count": 2,
   "metadata": {
    "scrolled": true
   },
   "outputs": [
    {
     "data": {
      "text/plain": [
       "True"
      ]
     },
     "execution_count": 2,
     "metadata": {},
     "output_type": "execute_result"
    }
   ],
   "source": [
    "from dotenv import load_dotenv\n",
    "load_dotenv()"
   ]
  },
  {
   "cell_type": "code",
   "execution_count": 3,
   "metadata": {
    "colab": {
     "base_uri": "https://localhost:8080/",
     "height": 34
    },
    "colab_type": "code",
    "id": "s0U--D6UWZPS",
    "outputId": "4ed23761-1e59-429d-8bdf-f62ec7b8ad3a"
   },
   "outputs": [],
   "source": [
    "import os\n",
    "import time\n",
    "\n",
    "import pymysql\n",
    "\n",
    "import multiprocessing\n",
    "\n",
    "import numpy as np\n",
    "import pandas as pd\n",
    "import matplotlib.pyplot as plt\n",
    "\n",
    "from sklearn.preprocessing import MinMaxScaler"
   ]
  },
  {
   "cell_type": "code",
   "execution_count": 4,
   "metadata": {},
   "outputs": [],
   "source": [
    "# DB_CONN INFOS\n",
    "DB_USER = os.getenv('MYSQL_USER')\n",
    "DB_PASSWD = os.getenv('MYSQL_PASSWORD')\n",
    "DB_HOST = os.getenv('MYSQL_HOST')\n",
    "DB_DB = os.getenv('MYSQL_DATABASE')\n",
    "\n",
    "# Connect to db\n",
    "db = pymysql.connect(\n",
    "    user=DB_USER, \n",
    "    passwd=DB_PASSWD, \n",
    "    host=DB_HOST, \n",
    "    db=DB_DB, \n",
    "    charset='utf8'\n",
    ")\n",
    "\n",
    "# Set cursor\n",
    "cursor = db.cursor(pymysql.cursors.DictCursor)"
   ]
  },
  {
   "cell_type": "code",
   "execution_count": 5,
   "metadata": {
    "scrolled": false
   },
   "outputs": [],
   "source": [
    "# Get all stations ids in database\n",
    "sql = \"SELECT TABLE_NAME FROM INFORMATION_SCHEMA.TABLES WHERE TABLE_SCHEMA = %s;\"\n",
    "cursor.execute(sql, DB_DB)\n",
    "stationIds = cursor.fetchall()\n",
    "stationIds = [stationId['TABLE_NAME'] for stationId in stationIds]\n",
    "stationIds = stationIds[:30]"
   ]
  },
  {
   "cell_type": "code",
   "execution_count": 6,
   "metadata": {
    "scrolled": false
   },
   "outputs": [
    {
     "name": "stdout",
     "output_type": "stream",
     "text": [
      "로딩시간 : 1.0224604606628418\n",
      "로드된 데이터 수 : 81360\n"
     ]
    }
   ],
   "source": [
    "start = time.time()\n",
    "\n",
    "count = 0\n",
    "data = {}\n",
    "for stationId in stationIds:\n",
    "    sql = \"SELECT parkingBikeTotCnt FROM `{}`\".format(stationId)\n",
    "    count += cursor.execute(sql)\n",
    "    res = cursor.fetchall()\n",
    "    \n",
    "    tempdf = pd.DataFrame(res)\n",
    "    y = pd.DataFrame(tempdf.parkingBikeTotCnt)\n",
    "\n",
    "    scaler = MinMaxScaler()\n",
    "    y = scaler.fit_transform(y)\n",
    "    \n",
    "    data[stationId] = y\n",
    "    \n",
    "print(\"로딩시간 :\", time.time() - start)\n",
    "print(\"로드된 데이터 수 :\", count)"
   ]
  },
  {
   "cell_type": "code",
   "execution_count": 7,
   "metadata": {
    "colab": {},
    "colab_type": "code",
    "id": "mYDVkTUVWosT"
   },
   "outputs": [],
   "source": [
    "def create_dataset(dataset, look_back=10, nPredicted = 6):\n",
    "    dataX, dataY = [], []\n",
    "    for i in range(len(dataset)-look_back-nPredicted + 1):\n",
    "        dataX.append(dataset[i:(i+look_back), 0])\n",
    "        dataY.append(dataset[i + look_back: i + look_back + nPredicted, 0])\n",
    "        \n",
    "    dataX, dataY = np.array(dataX), np.array(dataY)\n",
    "    \n",
    "    dataX = dataX.reshape(dataX.shape[0], dataX.shape[1], 1)\n",
    "    dataY = dataY.reshape(dataY.shape[0], dataY.shape[1], 1)\n",
    "    \n",
    "    return dataX, dataY"
   ]
  },
  {
   "cell_type": "code",
   "execution_count": 22,
   "metadata": {},
   "outputs": [],
   "source": [
    "def do_all_task(args):\n",
    "    import keras\n",
    "    from keras import optimizers\n",
    "    from keras.models import Sequential\n",
    "    from keras.layers import Dense, LSTM, Dropout, TimeDistributed, RepeatVector\n",
    "\n",
    "    from keras import backend as K\n",
    "    K.set_session(K.tf.Session(config=K.tf.ConfigProto(intra_op_parallelism_threads=32, \n",
    "                                                      inter_op_parallelism_threads=32, \n",
    "                                                      device_count={\"CPU\": 8})))\n",
    "    \n",
    "    model = Sequential()\n",
    "    \n",
    "    model.add(LSTM(27, activation='linear', input_shape=(10, 1)))\n",
    "    model.add(RepeatVector(6))\n",
    "    model.add(LSTM(27, activation='linear', return_sequences=True))\n",
    "    model.add(TimeDistributed(Dense(1)))\n",
    "    \n",
    "    model.compile(optimizer='adam', loss='mse')\n",
    "    \n",
    "    \n",
    "    print(\"학습 시작, pid :\", os.getpid())\n",
    "    start = time.time()\n",
    "    history = model.fit(args['x'], args['y'], epochs=65, batch_size=64, verbose=0)\n",
    "    print(\"학습시간 :\", time.time() - start, \"loss :\", history.history['loss'][-1:])\n",
    "    \n",
    "    file_name = 'models/{}.h5'.format(args['key'])\n",
    "    model.save(file_name)"
   ]
  },
  {
   "cell_type": "code",
   "execution_count": 23,
   "metadata": {
    "scrolled": false
   },
   "outputs": [
    {
     "name": "stdout",
     "output_type": "stream",
     "text": [
      "joining pool processes\n",
      "join complete\n"
     ]
    }
   ],
   "source": [
    "try:\n",
    "    nCores = multiprocessing.cpu_count()\n",
    "    pool = multiprocessing.Pool(processes=nCores)\n",
    "\n",
    "    keys = data.keys()\n",
    "    result = pool.map(create_dataset, [data[key] for key in keys])\n",
    "\n",
    "    datasets = {}\n",
    "    idx = 0\n",
    "    for key in keys:\n",
    "        datasets[key] = result[idx]\n",
    "        idx+=1\n",
    "except:\n",
    "    pool.terminate()\n",
    "    print('pool is terminated')\n",
    "finally:\n",
    "    print('joining pool processes')\n",
    "    pool.close()\n",
    "    pool.join()\n",
    "    print('join complete')"
   ]
  },
  {
   "cell_type": "code",
   "execution_count": 26,
   "metadata": {
    "scrolled": false
   },
   "outputs": [
    {
     "name": "stdout",
     "output_type": "stream",
     "text": [
      "start training\n"
     ]
    },
    {
     "name": "stderr",
     "output_type": "stream",
     "text": [
      "Using TensorFlow backend.\n",
      "Using TensorFlow backend.\n",
      "Using TensorFlow backend.\n",
      "Using TensorFlow backend.\n",
      "Using TensorFlow backend.\n",
      "Using TensorFlow backend.\n",
      "Using TensorFlow backend.\n",
      "Using TensorFlow backend.\n"
     ]
    },
    {
     "name": "stdout",
     "output_type": "stream",
     "text": [
      "WARNING:tensorflow:From /opt/conda/lib/python3.6/site-packages/tensorflow/python/framework/op_def_library.py:263: colocate_with (from tensorflow.python.framework.ops) is deprecated and will be removed in a future version.\n",
      "Instructions for updating:\n",
      "Colocations handled automatically by placer.WARNING:tensorflow:From /opt/conda/lib/python3.6/site-packages/tensorflow/python/framework/op_def_library.py:263: colocate_with (from tensorflow.python.framework.ops) is deprecated and will be removed in a future version.\n",
      "Instructions for updating:\n",
      "Colocations handled automatically by placer.\n",
      "\n",
      "WARNING:tensorflow:From /opt/conda/lib/python3.6/site-packages/tensorflow/python/framework/op_def_library.py:263: colocate_with (from tensorflow.python.framework.ops) is deprecated and will be removed in a future version.\n",
      "Instructions for updating:\n",
      "Colocations handled automatically by placer.WARNING:tensorflow:From /opt/conda/lib/python3.6/site-packages/tensorflow/python/framework/op_def_library.py:263: colocate_with (from tensorflow.python.framework.ops) is deprecated and will be removed in a future version.\n",
      "Instructions for updating:\n",
      "Colocations handled automatically by placer.WARNING:tensorflow:From /opt/conda/lib/python3.6/site-packages/tensorflow/python/framework/op_def_library.py:263: colocate_with (from tensorflow.python.framework.ops) is deprecated and will be removed in a future version.\n",
      "Instructions for updating:\n",
      "Colocations handled automatically by placer.\n",
      "\n",
      "\n",
      "WARNING:tensorflow:From /opt/conda/lib/python3.6/site-packages/tensorflow/python/framework/op_def_library.py:263: colocate_with (from tensorflow.python.framework.ops) is deprecated and will be removed in a future version.\n",
      "Instructions for updating:\n",
      "Colocations handled automatically by placer.\n",
      "WARNING:tensorflow:From /opt/conda/lib/python3.6/site-packages/tensorflow/python/framework/op_def_library.py:263: colocate_with (from tensorflow.python.framework.ops) is deprecated and will be removed in a future version.\n",
      "Instructions for updating:\n",
      "Colocations handled automatically by placer.\n",
      "WARNING:tensorflow:From /opt/conda/lib/python3.6/site-packages/tensorflow/python/framework/op_def_library.py:263: colocate_with (from tensorflow.python.framework.ops) is deprecated and will be removed in a future version.\n",
      "Instructions for updating:\n",
      "Colocations handled automatically by placer.\n",
      "학습 시작, pid : 18491\n",
      "학습 시작, pid : 18488\n",
      "학습 시작, pid : 18489\n",
      "학습 시작, pid : 18487\n",
      "학습 시작, pid : 18493\n",
      "학습 시작, pid : 18494\n",
      "학습 시작, pid : 18492\n",
      "학습 시작, pid : 18490\n",
      "WARNING:tensorflow:From /opt/conda/lib/python3.6/site-packages/tensorflow/python/ops/math_ops.py:3066: to_int32 (from tensorflow.python.ops.math_ops) is deprecated and will be removed in a future version.\n",
      "Instructions for updating:\n",
      "Use tf.cast instead.WARNING:tensorflow:From /opt/conda/lib/python3.6/site-packages/tensorflow/python/ops/math_ops.py:3066: to_int32 (from tensorflow.python.ops.math_ops) is deprecated and will be removed in a future version.\n",
      "Instructions for updating:\n",
      "Use tf.cast instead.\n",
      "WARNING:tensorflow:From /opt/conda/lib/python3.6/site-packages/tensorflow/python/ops/math_ops.py:3066: to_int32 (from tensorflow.python.ops.math_ops) is deprecated and will be removed in a future version.\n",
      "Instructions for updating:\n",
      "Use tf.cast instead.WARNING:tensorflow:From /opt/conda/lib/python3.6/site-packages/tensorflow/python/ops/math_ops.py:3066: to_int32 (from tensorflow.python.ops.math_ops) is deprecated and will be removed in a future version.\n",
      "Instructions for updating:\n",
      "Use tf.cast instead.WARNING:tensorflow:From /opt/conda/lib/python3.6/site-packages/tensorflow/python/ops/math_ops.py:3066: to_int32 (from tensorflow.python.ops.math_ops) is deprecated and will be removed in a future version.\n",
      "Instructions for updating:\n",
      "Use tf.cast instead.\n",
      "\n",
      "WARNING:tensorflow:From /opt/conda/lib/python3.6/site-packages/tensorflow/python/ops/math_ops.py:3066: to_int32 (from tensorflow.python.ops.math_ops) is deprecated and will be removed in a future version.\n",
      "Instructions for updating:\n",
      "Use tf.cast instead.\n",
      "\n",
      "\n",
      "WARNING:tensorflow:From /opt/conda/lib/python3.6/site-packages/tensorflow/python/ops/math_ops.py:3066: to_int32 (from tensorflow.python.ops.math_ops) is deprecated and will be removed in a future version.\n",
      "Instructions for updating:\n",
      "Use tf.cast instead.WARNING:tensorflow:From /opt/conda/lib/python3.6/site-packages/tensorflow/python/ops/math_ops.py:3066: to_int32 (from tensorflow.python.ops.math_ops) is deprecated and will be removed in a future version.\n",
      "Instructions for updating:\n",
      "Use tf.cast instead.\n",
      "\n",
      "학습시간 : 341.1845133304596 loss : [0.004823275670063194]\n",
      "학습시간 : 343.19205927848816 loss : [0.0037402794923868843]\n",
      "학습시간 : 344.17463064193726 loss : [0.0013548404772125888]\n",
      "학습시간 : 346.11184644699097 loss : [0.0013634133685359847]\n",
      "학습시간 : 348.2920994758606 loss : [0.0025917899157419594]\n",
      "학습시간 : 350.84748888015747 loss : [0.003210998264848937]\n",
      "학습 시작, pid : 18487\n",
      "학습시간 : 351.9150493144989 loss : [0.002305697171646179]\n",
      "학습시간 : 351.94188356399536 loss : [0.001675308211420828]\n",
      "학습 시작, pid : 18493\n",
      "학습 시작, pid : 18492\n",
      "학습 시작, pid : 18488\n",
      "학습 시작, pid : 18489\n",
      "학습 시작, pid : 18494\n",
      "학습 시작, pid : 18491\n",
      "학습 시작, pid : 18490\n",
      "학습시간 : 334.1921384334564 loss : [0.002971233062109087]\n",
      "학습 시작, pid : 18487\n",
      "학습시간 : 341.53836011886597 loss : [0.006578971231946757]\n",
      "학습시간 : 343.71688580513 loss : [0.0018785776557101433]\n",
      "학습시간 : 345.32771277427673 loss : [0.0028454320163223967]\n",
      "학습시간 : 351.3425042629242 loss : [0.006323542597147329]\n",
      "학습시간 : 354.3405501842499 loss : [0.0020451148171036536]\n",
      "학습 시작, pid : 18493\n",
      "학습시간 : 354.5571405887604 loss : [0.0050095541553428855]\n",
      "학습시간 : 357.024924993515 loss : [0.0023727643260710537]\n",
      "학습 시작, pid : 18488\n",
      "학습 시작, pid : 18492\n",
      "학습 시작, pid : 18494\n",
      "학습 시작, pid : 18489\n",
      "학습 시작, pid : 18490\n",
      "학습 시작, pid : 18491\n",
      "학습시간 : 324.47672843933105 loss : [0.0014744829257841757]\n",
      "학습 시작, pid : 18487\n",
      "학습시간 : 334.5407910346985 loss : [0.004623393218456375]\n",
      "학습시간 : 340.9319496154785 loss : [0.00540060904003061]\n",
      "학습시간 : 340.7948615550995 loss : [0.0017178999055763799]\n",
      "학습 시작, pid : 18493\n",
      "학습시간 : 352.09210777282715 loss : [0.009523640796048363]\n",
      "학습시간 : 354.315345287323 loss : [0.0035489501917317255]\n",
      "학습시간 : 355.29265570640564 loss : [0.0023194499102259323]\n",
      "학습시간 : 353.8905110359192 loss : [0.0014870354240037803]\n",
      "학습 시작, pid : 18488\n",
      "학습 시작, pid : 18492\n",
      "학습 시작, pid : 18494\n",
      "학습 시작, pid : 18489\n",
      "학습시간 : 255.69179725646973 loss : [0.0015947647348246933]\n",
      "학습시간 : 284.5852119922638 loss : [0.0038291279593959844]\n",
      "학습시간 : 281.4409990310669 loss : [0.0031486401397598134]\n",
      "학습시간 : 282.0212264060974 loss : [0.0020985050676570094]\n",
      "학습시간 : 284.9635229110718 loss : [0.002693422998101055]\n",
      "학습시간 : 284.2538626194 loss : [0.003276461941867923]\n",
      "end training\n",
      "joining pool processes\n",
      "join complete\n"
     ]
    }
   ],
   "source": [
    "try:\n",
    "    print(\"start training\")\n",
    "    nCores = multiprocessing.cpu_count()\n",
    "    pool = multiprocessing.Pool(processes=nCores)\n",
    "\n",
    "    keys = datasets.keys()\n",
    "\n",
    "    pool.map(do_all_task, [{\n",
    "        'key': key, \n",
    "        'x': datasets[key][0], \n",
    "        'y': datasets[key][1]\n",
    "    } for key in keys])\n",
    "    \n",
    "    print(\"end training\")\n",
    "except:\n",
    "    print('에러가 발생 했습니다')\n",
    "    pool.terminate()\n",
    "    print('pool is terminated')\n",
    "finally:\n",
    "    print('joining pool processes')\n",
    "    pool.close()\n",
    "    pool.join()\n",
    "    print('join complete')"
   ]
  },
  {
   "cell_type": "code",
   "execution_count": null,
   "metadata": {},
   "outputs": [],
   "source": []
  }
 ],
 "metadata": {
  "colab": {
   "collapsed_sections": [],
   "name": "Copy of Untitled5.ipynb",
   "provenance": []
  },
  "kernelspec": {
   "display_name": "Python 3",
   "language": "python",
   "name": "python3"
  },
  "language_info": {
   "codemirror_mode": {
    "name": "ipython",
    "version": 3
   },
   "file_extension": ".py",
   "mimetype": "text/x-python",
   "name": "python",
   "nbconvert_exporter": "python",
   "pygments_lexer": "ipython3",
   "version": "3.6.8"
  }
 },
 "nbformat": 4,
 "nbformat_minor": 1
}
