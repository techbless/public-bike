{
 "cells": [
  {
   "cell_type": "code",
   "execution_count": 14,
   "metadata": {
    "scrolled": true
   },
   "outputs": [
    {
     "name": "stdout",
     "output_type": "stream",
     "text": [
      "Collecting schedule\n",
      "  Downloading schedule-0.6.0-py2.py3-none-any.whl (8.7 kB)\n",
      "Installing collected packages: schedule\n",
      "Successfully installed schedule-0.6.0\n",
      "\u001b[33mWARNING: You are using pip version 20.1.1; however, version 20.2.1 is available.\n",
      "You should consider upgrading via the '/root/workspace/py3/bin/python -m pip install --upgrade pip' command.\u001b[0m\n"
     ]
    }
   ],
   "source": [
    "# !pip install flask\n",
    "# !pip install flask_cors\n",
    "# !pip install apscheduler"
   ]
  },
  {
   "cell_type": "code",
   "execution_count": 1,
   "metadata": {},
   "outputs": [],
   "source": [
    "import os\n",
    "import json\n",
    "import time\n",
    "import requests\n",
    "from flask import Flask, Response\n",
    "from flask_cors import CORS, cross_origin\n",
    "import functools\n",
    "from datetime import datetime, timedelta\n",
    "from itertools import product, repeat\n",
    "\n",
    "import pymysql\n",
    "import numpy as np\n",
    "import pandas as pd\n",
    "\n",
    "import keras\n",
    "import tensorflow as tf\n",
    "from sklearn.preprocessing import MinMaxScaler\n",
    "\n",
    "from model import create_model\n",
    "import joblib\n",
    "\n",
    "from multiprocessing import cpu_count, Pool, Process\n",
    "\n",
    "tf.config.threading.set_intra_op_parallelism_threads(2)\n",
    "tf.config.threading.set_inter_op_parallelism_threads(1)\n",
    "\n",
    "from dotenv import load_dotenv\n",
    "load_dotenv()\n",
    "\n",
    "import threading\n",
    "\n",
    "from apscheduler.schedulers.background import BackgroundScheduler"
   ]
  },
  {
   "cell_type": "code",
   "execution_count": 2,
   "metadata": {},
   "outputs": [
    {
     "name": "stdout",
     "output_type": "stream",
     "text": [
      "dataset_4\n"
     ]
    }
   ],
   "source": [
    "app = Flask(__name__)\n",
    "cors = CORS(app, resources={r'*': {'origins': '*'}})\n",
    "API_KEY = os.getenv('API_KEY')\n",
    "\n",
    "print(os.getenv('MYSQL_DATABASE'))\n",
    "\n",
    "nCores = cpu_count()"
   ]
  },
  {
   "cell_type": "code",
   "execution_count": 3,
   "metadata": {},
   "outputs": [],
   "source": [
    "def cache(seconds: int, maxsize: int = 10000, typed: bool = False):\n",
    "    def wrapper_cache(func):\n",
    "        func = functools.lru_cache(maxsize=maxsize, typed=typed)(func)\n",
    "        func.delta = timedelta(seconds=seconds)\n",
    "        func.expiration = datetime.utcnow() + func.delta\n",
    "\n",
    "        @functools.wraps(func)\n",
    "        def wrapped_func(*args, **kwargs):\n",
    "            if datetime.utcnow() >= func.expiration:\n",
    "                func.cache_clear()\n",
    "                func.expiration = datetime.utcnow() + func.delta\n",
    "\n",
    "            return func(*args, **kwargs)\n",
    "\n",
    "        return wrapped_func\n",
    "\n",
    "    return wrapper_cache"
   ]
  },
  {
   "cell_type": "code",
   "execution_count": 4,
   "metadata": {},
   "outputs": [],
   "source": [
    "# DB_CONN INFOS\n",
    "DB_USER = os.getenv('MYSQL_USER')\n",
    "DB_PASSWD = os.getenv('MYSQL_PASSWORD')\n",
    "DB_HOST = os.getenv('MYSQL_HOST')\n",
    "DB_DB = os.getenv('MYSQL_DATABASE')\n",
    "\n",
    "# Connect to db\n",
    "db = pymysql.connect(\n",
    "    user=DB_USER, \n",
    "    passwd=DB_PASSWD, \n",
    "    host=DB_HOST, \n",
    "    db=DB_DB, \n",
    "    charset='utf8'\n",
    ")\n",
    "\n",
    "# Set cursor\n",
    "cursor = db.cursor(pymysql.cursors.DictCursor)"
   ]
  },
  {
   "cell_type": "code",
   "execution_count": 5,
   "metadata": {
    "scrolled": true
   },
   "outputs": [],
   "source": [
    "def requestCurrentInfo(startIdx, endIdx):\n",
    "    url = \"http://openapi.seoul.go.kr:8088/{}/json/bikeList/{}/{}\".format(API_KEY, startIdx, endIdx)\n",
    "    res = requests.get(url)\n",
    "    res = res.json()\n",
    "    \n",
    "    if res['rentBikeStatus']['RESULT']['CODE'] != 'INFO-000':\n",
    "        raise Exception('Failed to get data from api.')\n",
    "    \n",
    "    return res['rentBikeStatus']['row']\n",
    "\n",
    "def getAllCombinedInfo():\n",
    "    res = []\n",
    "    for i in range(1, 1001 + 1, 1000):\n",
    "        startIdx = i\n",
    "        endIdx = i + 999\n",
    "        res = res + requestCurrentInfo(startIdx, endIdx)\n",
    "        \n",
    "    return res"
   ]
  },
  {
   "cell_type": "code",
   "execution_count": 6,
   "metadata": {
    "scrolled": true
   },
   "outputs": [],
   "source": [
    "MODELS_PATH = \"./models/\"\n",
    "\n",
    "def get_available_stations():\n",
    "    def isAvailableStation(station):\n",
    "        if station['stationId'] in availableStations:\n",
    "            return station\n",
    "        else:\n",
    "            return None\n",
    "    \n",
    "    file_list = os.listdir(MODELS_PATH)\n",
    "    \n",
    "    availableStations = list(map(lambda x: x.split('.')[0], file_list))\n",
    "    allStations = getAllCombinedInfo()\n",
    "    availableStations = list(filter(isAvailableStation, allStations))\n",
    "    \n",
    "    return availableStations"
   ]
  },
  {
   "cell_type": "code",
   "execution_count": 7,
   "metadata": {},
   "outputs": [],
   "source": [
    "# @cache(seconds=2.5*60)\n",
    "def get_last_10rows(stationId):\n",
    "    sql = \"\"\"\n",
    "    SELECT parkingBikeTotCnt FROM (\n",
    "        SELECT parkingBikeTotCnt, idx FROM `{}` ORDER BY idx DESC LIMIT 10\n",
    "    ) sub\n",
    "    ORDER BY idx ASC\n",
    "    \"\"\".format(stationId)\n",
    "\n",
    "    cursor.execute(sql)\n",
    "    res = cursor.fetchall()\n",
    "    res = [row['parkingBikeTotCnt'] for row in res]\n",
    "    \n",
    "    return np.array(res)"
   ]
  },
  {
   "cell_type": "code",
   "execution_count": 8,
   "metadata": {},
   "outputs": [],
   "source": [
    "models = {}\n",
    "def load_models():\n",
    "    global models\n",
    "    \n",
    "    stations = get_available_stations()\n",
    "    \n",
    "    for station in stations:\n",
    "        stationId = station['stationId']\n",
    "        path = \"./models/{}.h5\".format(stationId)\n",
    "        model = keras.models.load_model(path)\n",
    "        models[stationId] = model\n",
    "\n",
    "def get_scaler(stationId):\n",
    "    file_name = './scalers/{}.pkl'.format(stationId)\n",
    "    scaler = joblib.load(file_name)\n",
    "    \n",
    "    return scaler\n",
    "\n",
    "def predict(model, scaler, x):\n",
    "    x = tf.keras.backend.constant(x)\n",
    "    y = model(x, training=False).numpy()\n",
    "    y = y.reshape(y.shape[0], y.shape[1])\n",
    "    y = scaler.inverse_transform(y)\n",
    "    y = y.reshape(y.shape[1])\n",
    "    \n",
    "    return y.tolist()\n",
    "\n",
    "def forecastFutureOfStation(station):\n",
    "    stationId = station['stationId']\n",
    "    #model = get_model(stationId)\n",
    "    model = models[stationId]\n",
    "    x = get_last_10rows(stationId)\n",
    "    \n",
    "    scaler = get_scaler(stationId)\n",
    "    x = scaler.fit_transform(pd.DataFrame(x))\n",
    "    x = x.reshape(1, x.shape[0], 1)\n",
    "    \n",
    "    station['future'] = predict(model, scaler, x)\n",
    "    \n",
    "    return station"
   ]
  },
  {
   "cell_type": "code",
   "execution_count": 9,
   "metadata": {
    "scrolled": true
   },
   "outputs": [],
   "source": [
    "load_models()\n",
    "\n",
    "sched = BackgroundScheduler()\n",
    "sched.add_job(load_models, 'cron', hour='3') # every at 03:00 AM\n",
    "sched.start()"
   ]
  },
  {
   "cell_type": "code",
   "execution_count": 10,
   "metadata": {},
   "outputs": [],
   "source": [
    "#@cache(seconds=500*60)\n",
    "def get_stations():\n",
    "    availableStations = get_available_stations()\n",
    "    \n",
    "    with Pool(nCores, maxtasksperchild=8) as pool:\n",
    "        result = pool.map(forecastFutureOfStation, availableStations)\n",
    "        \n",
    "    resultInJson = json.dumps(result, ensure_ascii=False)\n",
    "    return resultInJson\n",
    "\n",
    "@app.route(\"/stations/available\")\n",
    "@cross_origin()\n",
    "def get_all_stations():\n",
    "    return Response(get_stations(), mimetype='application/json')"
   ]
  },
  {
   "cell_type": "code",
   "execution_count": 11,
   "metadata": {},
   "outputs": [],
   "source": [
    "@app.route(\"/station/<stationId>/history\")\n",
    "@cross_origin()\n",
    "def get_history(stationId):    \n",
    "    sql = \"\"\"\n",
    "    SELECT datetime, parkingBikeTotCnt FROM (\n",
    "        SELECT * FROM `{}` ORDER BY idx DESC LIMIT 50\n",
    "    ) sub\n",
    "    ORDER BY idx ASC\n",
    "    \"\"\".format(stationId)\n",
    "    cursor.execute(sql)\n",
    "    history = cursor.fetchall()\n",
    "    \n",
    "    \n",
    "    resultInJson = json.dumps(history, ensure_ascii=False)\n",
    "    return Response(resultInJson, mimetype='application/json')"
   ]
  },
  {
   "cell_type": "code",
   "execution_count": null,
   "metadata": {
    "scrolled": false
   },
   "outputs": [
    {
     "name": "stdout",
     "output_type": "stream",
     "text": [
      " * Serving Flask app \"__main__\" (lazy loading)\n",
      " * Environment: production\n",
      "\u001b[31m   WARNING: This is a development server. Do not use it in a production deployment.\u001b[0m\n",
      "\u001b[2m   Use a production WSGI server instead.\u001b[0m\n",
      " * Debug mode: off\n"
     ]
    },
    {
     "name": "stderr",
     "output_type": "stream",
     "text": [
      " * Running on http://0.0.0.0:5000/ (Press CTRL+C to quit)\n",
      "1.231.99.37 - - [08/Aug/2020 04:25:52] \"\u001b[37mGET /stations/available HTTP/1.1\u001b[0m\" 200 -\n",
      "1.231.99.37 - - [08/Aug/2020 04:26:57] \"\u001b[37mGET /stations/available HTTP/1.1\u001b[0m\" 200 -\n",
      "1.231.99.37 - - [08/Aug/2020 04:27:01] \"\u001b[37mGET /station/ST-1437/history HTTP/1.1\u001b[0m\" 200 -\n",
      "1.231.99.37 - - [08/Aug/2020 04:27:04] \"\u001b[37mGET /station/ST-168/history HTTP/1.1\u001b[0m\" 200 -\n",
      "1.231.99.37 - - [08/Aug/2020 04:27:16] \"\u001b[37mGET /station/ST-2278/history HTTP/1.1\u001b[0m\" 200 -\n",
      "1.231.99.37 - - [08/Aug/2020 04:27:20] \"\u001b[37mGET /station/ST-379/history HTTP/1.1\u001b[0m\" 200 -\n",
      "1.231.99.37 - - [08/Aug/2020 04:27:23] \"\u001b[37mGET /station/ST-394/history HTTP/1.1\u001b[0m\" 200 -\n",
      "1.231.99.37 - - [08/Aug/2020 04:27:26] \"\u001b[37mGET /station/ST-390/history HTTP/1.1\u001b[0m\" 200 -\n",
      "1.231.99.37 - - [08/Aug/2020 04:27:30] \"\u001b[37mGET /station/ST-391/history HTTP/1.1\u001b[0m\" 200 -\n",
      "1.231.99.37 - - [08/Aug/2020 04:27:33] \"\u001b[37mGET /station/ST-2267/history HTTP/1.1\u001b[0m\" 200 -\n",
      "1.231.99.37 - - [08/Aug/2020 04:27:47] \"\u001b[37mGET /station/ST-2168/history HTTP/1.1\u001b[0m\" 200 -\n",
      "1.231.99.37 - - [08/Aug/2020 04:27:51] \"\u001b[37mGET /station/ST-20/history HTTP/1.1\u001b[0m\" 200 -\n"
     ]
    }
   ],
   "source": [
    "if __name__ == '__main__':\n",
    "    app.run(host='0.0.0.0')"
   ]
  },
  {
   "cell_type": "code",
   "execution_count": null,
   "metadata": {},
   "outputs": [],
   "source": []
  }
 ],
 "metadata": {
  "kernelspec": {
   "display_name": "Python 3",
   "language": "python",
   "name": "python3"
  },
  "language_info": {
   "codemirror_mode": {
    "name": "ipython",
    "version": 3
   },
   "file_extension": ".py",
   "mimetype": "text/x-python",
   "name": "python",
   "nbconvert_exporter": "python",
   "pygments_lexer": "ipython3",
   "version": "3.6.9"
  }
 },
 "nbformat": 4,
 "nbformat_minor": 4
}
