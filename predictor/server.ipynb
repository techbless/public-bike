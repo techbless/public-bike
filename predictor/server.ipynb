{
 "cells": [
  {
   "cell_type": "code",
   "execution_count": 1,
   "metadata": {
    "scrolled": true
   },
   "outputs": [],
   "source": [
    "# !pip install flask"
   ]
  },
  {
   "cell_type": "code",
   "execution_count": 2,
   "metadata": {},
   "outputs": [
    {
     "data": {
      "text/plain": [
       "True"
      ]
     },
     "execution_count": 2,
     "metadata": {},
     "output_type": "execute_result"
    }
   ],
   "source": [
    "import os\n",
    "import json\n",
    "import time\n",
    "import requests\n",
    "from flask import Flask, Response\n",
    "from functools import lru_cache\n",
    "\n",
    "from model import create_model\n",
    "\n",
    "import pymysql\n",
    "import numpy as np\n",
    "import pandas as pd\n",
    "import keras\n",
    "import tensorflow as tf\n",
    "from sklearn.preprocessing import MinMaxScaler\n",
    "\n",
    "from dotenv import load_dotenv\n",
    "load_dotenv()"
   ]
  },
  {
   "cell_type": "code",
   "execution_count": 3,
   "metadata": {},
   "outputs": [],
   "source": [
    "app = Flask(__name__)\n",
    "API_KEY = os.getenv('API_KEY')"
   ]
  },
  {
   "cell_type": "code",
   "execution_count": 4,
   "metadata": {},
   "outputs": [],
   "source": [
    "# DB_CONN INFOS\n",
    "DB_USER = os.getenv('MYSQL_USER')\n",
    "DB_PASSWD = os.getenv('MYSQL_PASSWORD')\n",
    "DB_HOST = os.getenv('MYSQL_HOST')\n",
    "DB_DB = os.getenv('MYSQL_DATABASE')\n",
    "\n",
    "# Connect to db\n",
    "db = pymysql.connect(\n",
    "    user=DB_USER, \n",
    "    passwd=DB_PASSWD, \n",
    "    host=DB_HOST, \n",
    "    db=DB_DB, \n",
    "    charset='utf8'\n",
    ")\n",
    "\n",
    "# Set cursor\n",
    "cursor = db.cursor(pymysql.cursors.DictCursor)"
   ]
  },
  {
   "cell_type": "code",
   "execution_count": 5,
   "metadata": {
    "scrolled": true
   },
   "outputs": [],
   "source": [
    "def requestCurrentInfo(startIdx, endIdx):\n",
    "    url = \"http://openapi.seoul.go.kr:8088/{}/json/bikeList/{}/{}\".format(API_KEY, startIdx, endIdx)\n",
    "    res = requests.get(url)\n",
    "    res = res.json()\n",
    "    \n",
    "    if res['rentBikeStatus']['RESULT']['CODE'] != 'INFO-000':\n",
    "        raise Exception('Failed to get data from api.')\n",
    "    \n",
    "    return res['rentBikeStatus']['row']\n",
    "\n",
    "# @lru_cache(maxsize=32)\n",
    "def getAllCombinedInfo():\n",
    "    res = []\n",
    "    for i in range(1, 1001 + 1, 1000):\n",
    "        startIdx = i\n",
    "        endIdx = i + 999\n",
    "        res = res + requestCurrentInfo(startIdx, endIdx)\n",
    "        \n",
    "    return res"
   ]
  },
  {
   "cell_type": "code",
   "execution_count": 6,
   "metadata": {},
   "outputs": [],
   "source": [
    "def get_last_10rows(stationId):\n",
    "    sql = \"\"\"\n",
    "    SELECT parkingBikeTotCnt FROM (\n",
    "        SELECT * FROM `{}` ORDER BY idx DESC LIMIT 10\n",
    "    ) sub\n",
    "    ORDER BY idx ASC\n",
    "    \"\"\".format(stationId)\n",
    "\n",
    "    cursor.execute(sql)\n",
    "    res = cursor.fetchall()\n",
    "    res = [row['parkingBikeTotCnt'] for row in res]\n",
    "    return np.array(res)"
   ]
  },
  {
   "cell_type": "code",
   "execution_count": 7,
   "metadata": {},
   "outputs": [],
   "source": [
    "def forecastFutureOfStation(station):\n",
    "    stationId = station['stationId']\n",
    "    path = \"./models/{}.h5\".format(stationId)\n",
    "    model = keras.models.load_model(path)\n",
    "    x = get_last_10rows(stationId)\n",
    "    \n",
    "    scaler = MinMaxScaler()\n",
    "    x = scaler.fit_transform(pd.DataFrame(x))\n",
    "    x = x.reshape(1, x.shape[0], 1)\n",
    "    \n",
    "    y = model.predict(x)\n",
    "    y = y.reshape(y.shape[0], y.shape[1])\n",
    "    station['future'] = scaler.inverse_transform(y)\n",
    "    return station"
   ]
  },
  {
   "cell_type": "code",
   "execution_count": 8,
   "metadata": {},
   "outputs": [],
   "source": [
    "class NumpyEncoder(json.JSONEncoder):\n",
    "    def default(self, obj):\n",
    "        if isinstance(obj, np.ndarray):\n",
    "            return obj.tolist()\n",
    "        return json.JSONEncoder.default(self, obj)\n",
    "    \n",
    "MODELS_PATH = \"./models/\"\n",
    "\n",
    "@app.route(\"/stations/available\")\n",
    "def get_stations():\n",
    "    def isAvailableStation(station):\n",
    "        if station['stationId'] in availableStations:\n",
    "            return station\n",
    "        else:\n",
    "            return None\n",
    "        \n",
    "    file_list = os.listdir(MODELS_PATH)\n",
    "    availableStations = list(map(lambda x: x.split('.')[0], file_list))\n",
    "    allStations = getAllCombinedInfo()\n",
    "        \n",
    "    availableStations = list(filter(isAvailableStation, allStations))\n",
    "    result = list(map(forecastFutureOfStation, availableStations))\n",
    "    \n",
    "    resultInJson = json.dumps(result, ensure_ascii=False, cls=NumpyEncoder)\n",
    "    return Response(resultInJson, mimetype='application/json')"
   ]
  },
  {
   "cell_type": "code",
   "execution_count": 9,
   "metadata": {
    "scrolled": false
   },
   "outputs": [
    {
     "name": "stdout",
     "output_type": "stream",
     "text": [
      " * Serving Flask app \"__main__\" (lazy loading)\n",
      " * Environment: production\n",
      "\u001b[31m   WARNING: This is a development server. Do not use it in a production deployment.\u001b[0m\n",
      "\u001b[2m   Use a production WSGI server instead.\u001b[0m\n",
      " * Debug mode: off\n"
     ]
    },
    {
     "name": "stderr",
     "output_type": "stream",
     "text": [
      " * Running on http://0.0.0.0:5000/ (Press CTRL+C to quit)\n"
     ]
    }
   ],
   "source": [
    "if __name__ == '__main__':\n",
    "    app.run(host='0.0.0.0')"
   ]
  }
 ],
 "metadata": {
  "kernelspec": {
   "display_name": "Python 3",
   "language": "python",
   "name": "python3"
  },
  "language_info": {
   "codemirror_mode": {
    "name": "ipython",
    "version": 3
   },
   "file_extension": ".py",
   "mimetype": "text/x-python",
   "name": "python",
   "nbconvert_exporter": "python",
   "pygments_lexer": "ipython3",
   "version": "3.6.9"
  }
 },
 "nbformat": 4,
 "nbformat_minor": 4
}
