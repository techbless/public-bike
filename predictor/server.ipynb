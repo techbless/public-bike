{
 "cells": [
  {
   "cell_type": "code",
   "execution_count": 27,
   "metadata": {
    "scrolled": true
   },
   "outputs": [
    {
     "name": "stdout",
     "output_type": "stream",
     "text": [
      "Collecting flask\n",
      "  Downloading Flask-1.1.2-py2.py3-none-any.whl (94 kB)\n",
      "\u001b[K     |████████████████████████████████| 94 kB 927 kB/s eta 0:00:011\n",
      "\u001b[?25hRequirement already satisfied: Jinja2>=2.10.1 in ./py3/lib/python3.6/site-packages (from flask) (2.11.2)\n",
      "Collecting click>=5.1\n",
      "  Downloading click-7.1.2-py2.py3-none-any.whl (82 kB)\n",
      "\u001b[K     |████████████████████████████████| 82 kB 1.6 MB/s eta 0:00:011\n",
      "\u001b[?25hRequirement already satisfied: Werkzeug>=0.15 in ./py3/lib/python3.6/site-packages (from flask) (1.0.1)\n",
      "Collecting itsdangerous>=0.24\n",
      "  Downloading itsdangerous-1.1.0-py2.py3-none-any.whl (16 kB)\n",
      "Requirement already satisfied: MarkupSafe>=0.23 in ./py3/lib/python3.6/site-packages (from Jinja2>=2.10.1->flask) (1.1.1)\n",
      "Installing collected packages: click, itsdangerous, flask\n",
      "Successfully installed click-7.1.2 flask-1.1.2 itsdangerous-1.1.0\n"
     ]
    }
   ],
   "source": [
    "# !pip install flask"
   ]
  },
  {
   "cell_type": "code",
   "execution_count": 2,
   "metadata": {},
   "outputs": [
    {
     "data": {
      "text/plain": [
       "True"
      ]
     },
     "execution_count": 2,
     "metadata": {},
     "output_type": "execute_result"
    }
   ],
   "source": [
    "import os\n",
    "import json\n",
    "import requests\n",
    "from flask import Flask, Response\n",
    "\n",
    "from dotenv import load_dotenv\n",
    "load_dotenv()"
   ]
  },
  {
   "cell_type": "code",
   "execution_count": 8,
   "metadata": {},
   "outputs": [],
   "source": [
    "app = Flask(__name__)\n",
    "\n",
    "API_KEY = os.getenv('API_KEY')"
   ]
  },
  {
   "cell_type": "code",
   "execution_count": 9,
   "metadata": {
    "scrolled": true
   },
   "outputs": [],
   "source": [
    "def requestCurrentInfo(startIdx, endIdx):\n",
    "    url = \"http://openapi.seoul.go.kr:8088/{}/json/bikeList/{}/{}\".format(API_KEY, startIdx, endIdx)\n",
    "    res = requests.get(url)\n",
    "    res = res.json()\n",
    "    \n",
    "    if res['rentBikeStatus']['RESULT']['CODE'] != 'INFO-000':\n",
    "        raise Exception('Failed to get data from api.')\n",
    "    \n",
    "    return res['rentBikeStatus']['row']\n",
    "\n",
    "\n",
    "def getAllCombinedInfo():\n",
    "    res = []\n",
    "    for i in range(1, 1001 + 1, 1000):\n",
    "        startIdx = i\n",
    "        endIdx = i + 999\n",
    "        res = res + requestCurrentInfo(startIdx, endIdx)\n",
    "        \n",
    "    return res"
   ]
  },
  {
   "cell_type": "code",
   "execution_count": 10,
   "metadata": {},
   "outputs": [],
   "source": [
    "MODELS_PATH = \"./models/\"\n",
    "\n",
    "@app.route(\"/stations/available\")\n",
    "def get_stations():\n",
    "    \n",
    "    def isAvailableStation(station):\n",
    "        if station['stationId'] in availableStations:\n",
    "            return station\n",
    "        else:\n",
    "            return None\n",
    "        \n",
    "    file_list = os.listdir(MODELS_PATH)\n",
    "    availableStations = list(map(lambda x: x.split('.')[0], file_list))\n",
    "    \n",
    "    allStations = getAllCombinedInfo()\n",
    "        \n",
    "    result = list(filter(isAvailableStation, allStations))\n",
    "    resultInJson = json.dumps(result, ensure_ascii=False)\n",
    "    return Response(resultInJson, mimetype='application/json')\n"
   ]
  },
  {
   "cell_type": "code",
   "execution_count": null,
   "metadata": {},
   "outputs": [
    {
     "name": "stdout",
     "output_type": "stream",
     "text": [
      " * Serving Flask app \"__main__\" (lazy loading)\n",
      " * Environment: production\n",
      "\u001b[31m   WARNING: This is a development server. Do not use it in a production deployment.\u001b[0m\n",
      "\u001b[2m   Use a production WSGI server instead.\u001b[0m\n",
      " * Debug mode: off\n"
     ]
    },
    {
     "name": "stderr",
     "output_type": "stream",
     "text": [
      " * Running on http://0.0.0.0:5000/ (Press CTRL+C to quit)\n",
      "1.231.99.37 - - [30/Jul/2020 05:01:42] \"\u001b[37mGET /stations/available HTTP/1.1\u001b[0m\" 200 -\n"
     ]
    }
   ],
   "source": [
    "if __name__ == '__main__':\n",
    "    app.run(host='0.0.0.0')"
   ]
  },
  {
   "cell_type": "code",
   "execution_count": null,
   "metadata": {},
   "outputs": [],
   "source": []
  }
 ],
 "metadata": {
  "kernelspec": {
   "display_name": "Python 3",
   "language": "python",
   "name": "python3"
  },
  "language_info": {
   "codemirror_mode": {
    "name": "ipython",
    "version": 3
   },
   "file_extension": ".py",
   "mimetype": "text/x-python",
   "name": "python",
   "nbconvert_exporter": "python",
   "pygments_lexer": "ipython3",
   "version": "3.6.9"
  }
 },
 "nbformat": 4,
 "nbformat_minor": 4
}
